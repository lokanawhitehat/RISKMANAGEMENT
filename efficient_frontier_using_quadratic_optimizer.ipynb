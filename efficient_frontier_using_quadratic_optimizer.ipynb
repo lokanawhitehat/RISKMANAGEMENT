{
 "cells": [
  {
   "cell_type": "code",
   "execution_count": 27,
   "metadata": {
    "tags": []
   },
   "outputs": [
    {
     "name": "stdout",
     "output_type": "stream",
     "text": [
      "Downloading stock data with delay to avoid rate limits...\n",
      "Fetching data for AAPL...\n"
     ]
    },
    {
     "name": "stderr",
     "output_type": "stream",
     "text": [
      "\n",
      "1 Failed download:\n",
      "['AAPL']: YFRateLimitError('Too Many Requests. Rate limited. Try after a while.')\n"
     ]
    },
    {
     "name": "stdout",
     "output_type": "stream",
     "text": [
      "Fetching data for MSFT...\n"
     ]
    },
    {
     "name": "stderr",
     "output_type": "stream",
     "text": [
      "\n",
      "1 Failed download:\n",
      "['MSFT']: YFRateLimitError('Too Many Requests. Rate limited. Try after a while.')\n"
     ]
    },
    {
     "name": "stdout",
     "output_type": "stream",
     "text": [
      "Fetching data for JPM...\n"
     ]
    },
    {
     "name": "stderr",
     "output_type": "stream",
     "text": [
      "\n",
      "1 Failed download:\n",
      "['JPM']: YFRateLimitError('Too Many Requests. Rate limited. Try after a while.')\n"
     ]
    },
    {
     "name": "stdout",
     "output_type": "stream",
     "text": [
      "Fetching data for V...\n"
     ]
    },
    {
     "name": "stderr",
     "output_type": "stream",
     "text": [
      "\n",
      "1 Failed download:\n",
      "['V']: YFRateLimitError('Too Many Requests. Rate limited. Try after a while.')\n"
     ]
    },
    {
     "name": "stdout",
     "output_type": "stream",
     "text": [
      "Fetching data for GS...\n"
     ]
    },
    {
     "name": "stderr",
     "output_type": "stream",
     "text": [
      "\n",
      "1 Failed download:\n",
      "['GS']: YFRateLimitError('Too Many Requests. Rate limited. Try after a while.')\n"
     ]
    },
    {
     "name": "stdout",
     "output_type": "stream",
     "text": [
      "Fetching data for AXP...\n"
     ]
    },
    {
     "name": "stderr",
     "output_type": "stream",
     "text": [
      "\n",
      "1 Failed download:\n",
      "['AXP']: YFRateLimitError('Too Many Requests. Rate limited. Try after a while.')\n"
     ]
    },
    {
     "name": "stdout",
     "output_type": "stream",
     "text": [
      "Fetching data for UNH...\n"
     ]
    },
    {
     "name": "stderr",
     "output_type": "stream",
     "text": [
      "\n",
      "1 Failed download:\n",
      "['UNH']: YFRateLimitError('Too Many Requests. Rate limited. Try after a while.')\n"
     ]
    },
    {
     "name": "stdout",
     "output_type": "stream",
     "text": [
      "Fetching data for HD...\n"
     ]
    },
    {
     "name": "stderr",
     "output_type": "stream",
     "text": [
      "\n",
      "1 Failed download:\n",
      "['HD']: YFRateLimitError('Too Many Requests. Rate limited. Try after a while.')\n"
     ]
    },
    {
     "name": "stdout",
     "output_type": "stream",
     "text": [
      "Fetching data for MCD...\n"
     ]
    },
    {
     "name": "stderr",
     "output_type": "stream",
     "text": [
      "\n",
      "1 Failed download:\n",
      "['MCD']: YFRateLimitError('Too Many Requests. Rate limited. Try after a while.')\n"
     ]
    },
    {
     "name": "stdout",
     "output_type": "stream",
     "text": [
      "Fetching data for CAT...\n"
     ]
    },
    {
     "name": "stderr",
     "output_type": "stream",
     "text": [
      "\n",
      "1 Failed download:\n",
      "['CAT']: YFRateLimitError('Too Many Requests. Rate limited. Try after a while.')\n"
     ]
    },
    {
     "ename": "ValueError",
     "evalue": "Error: No stock data downloaded. Check Yahoo Finance API or try again later.",
     "output_type": "error",
     "traceback": [
      "\u001b[0;31m---------------------------------------------------------------------------\u001b[0m",
      "\u001b[0;31mValueError\u001b[0m                                Traceback (most recent call last)",
      "Cell \u001b[0;32mIn[27], line 27\u001b[0m\n\u001b[1;32m     25\u001b[0m \u001b[38;5;66;03m# Combine all downloaded stock data\u001b[39;00m\n\u001b[1;32m     26\u001b[0m \u001b[38;5;28;01mif\u001b[39;00m \u001b[38;5;129;01mnot\u001b[39;00m data_frames:\n\u001b[0;32m---> 27\u001b[0m     \u001b[38;5;28;01mraise\u001b[39;00m \u001b[38;5;167;01mValueError\u001b[39;00m(\u001b[38;5;124m\"\u001b[39m\u001b[38;5;124mError: No stock data downloaded. Check Yahoo Finance API or try again later.\u001b[39m\u001b[38;5;124m\"\u001b[39m)\n\u001b[1;32m     29\u001b[0m tickers_df \u001b[38;5;241m=\u001b[39m pd\u001b[38;5;241m.\u001b[39mDataFrame(data_frames)\n\u001b[1;32m     31\u001b[0m \u001b[38;5;66;03m# ✅ Step 2: Compute Log Returns (Ensure `Close` Prices Exist)\u001b[39;00m\n",
      "\u001b[0;31mValueError\u001b[0m: Error: No stock data downloaded. Check Yahoo Finance API or try again later."
     ]
    }
   ],
   "source": [
    "import numpy as np\n",
    "import pandas as pd\n",
    "import matplotlib.pyplot as plt\n",
    "import yfinance as yf\n",
    "import time\n",
    "from numpy import array, dot\n",
    "from qpsolvers import solve_qp\n",
    "\n",
    "# ✅ Step 1: Download Stock Data with Delay to Prevent Rate Limits\n",
    "tickers = [\"AAPL\", \"MSFT\", \"JPM\", \"V\", \"GS\", \"AXP\", \"UNH\", \"HD\", \"MCD\", \"CAT\"]\n",
    "data_frames = {}\n",
    "\n",
    "print(\"Downloading stock data with delay to avoid rate limits...\")\n",
    "\n",
    "for ticker in tickers:\n",
    "    try:\n",
    "        print(f\"Fetching data for {ticker}...\")\n",
    "        df = yf.download(ticker, start=\"2000-01-01\", end=\"2025-02-05\", progress=False, auto_adjust=True)\n",
    "        if not df.empty:\n",
    "            data_frames[ticker] = df[\"Close\"]\n",
    "        time.sleep(5)  # Wait 5 seconds to avoid rate limiting\n",
    "    except Exception as e:\n",
    "        print(f\"Failed to fetch {ticker}: {e}\")\n",
    "\n",
    "# Combine all downloaded stock data\n",
    "if not data_frames:\n",
    "    raise ValueError(\"Error: No stock data downloaded. Check Yahoo Finance API or try again later.\")\n",
    "\n",
    "tickers_df = pd.DataFrame(data_frames)\n",
    "\n",
    "# ✅ Step 2: Compute Log Returns (Ensure `Close` Prices Exist)\n",
    "if tickers_df.empty:\n",
    "    raise ValueError(\"Error: No stock data available after download.\")\n",
    "\n",
    "returns = np.log(tickers_df / tickers_df.shift(1)).dropna()\n",
    "\n",
    "# ✅ Step 3: Handle Missing Data\n",
    "returns = returns.dropna()\n",
    "\n",
    "if returns.empty:\n",
    "    raise ValueError(\"Error: The `returns` DataFrame is empty after removing NaN values.\")\n",
    "\n",
    "# ✅ Step 4: Compute Annualized Returns & Covariance Matrix\n",
    "stats = returns.agg(['mean', 'std', 'var'])\n",
    "annual_returns = stats.transpose()['mean'] * 252\n",
    "annual_covar = returns.cov() * 252\n",
    "\n",
    "# Drop NaN values\n",
    "annual_returns = annual_returns.dropna()\n",
    "annual_covar = annual_covar.dropna(how='all')\n",
    "\n",
    "if annual_returns.empty:\n",
    "    raise ValueError(\"Error: `annual_returns` is empty after computation!\")\n",
    "\n",
    "# ✅ Step 5: Create Efficient Frontier Class\n",
    "class create_efficient_frontier:\n",
    "    def __init__(self, returns, covar):\n",
    "        \"\"\"Initialize the efficient frontier object with returns and covariance matrix.\"\"\"\n",
    "        self.returns = np.array(returns)\n",
    "        self.covar = np.array(covar)\n",
    "        self.n = len(self.covar)\n",
    "        self.tickers = list(returns.index)\n",
    "\n",
    "    def get_portfolio(self, return_target):\n",
    "        \"\"\"Find the minimum variance portfolio for a given return target.\"\"\"\n",
    "        P, q = self.covar, np.zeros(self.n)\n",
    "        G, h = None, None\n",
    "        \n",
    "        # Ensure A is properly shaped\n",
    "        A = np.vstack([annual_returns.to_numpy().reshape(1, -1), np.ones((1, self.n))])\n",
    "        b = np.array([return_target, 1.0])\n",
    "        \n",
    "        lb, ub = np.zeros(self.n), np.ones(self.n)  # Long-only constraints\n",
    "        \n",
    "        # Solve quadratic optimization problem\n",
    "        self.portfolio = solve_qp(P, q, G, h, A, b, lb, ub, solver='scs')\n",
    "\n",
    "        return {\"portfolio\": self.portfolio, \"risk_ret\": self.risk_return()}  \n",
    "\n",
    "    def risk_return(self):\n",
    "        \"\"\"Calculate risk and return for the given portfolio weights.\"\"\"\n",
    "        return np.sqrt(self.portfolio @ self.covar @ self.portfolio), self.returns @ self.portfolio\n",
    "\n",
    "# ✅ Step 6: Create Efficient Frontier\n",
    "ef = create_efficient_frontier(annual_returns, annual_covar)\n",
    "min_return, max_return = min(annual_returns), max(annual_returns)\n",
    "\n",
    "# ✅ Step 7: Find the Maximum Sharpe Ratio Portfolio\n",
    "def max_sharpe_ratio(mean_returns, cov_matrix, risk_free_rate=0.05):\n",
    "    \"\"\"Find the portfolio with the highest Sharpe ratio.\"\"\"\n",
    "    num_assets = len(mean_returns)\n",
    "    args = (mean_returns, cov_matrix, risk_free_rate)\n",
    "\n",
    "    def sharpe_ratio(weights, mean_returns, cov_matrix, risk_free_rate):\n",
    "        ret = np.dot(weights, mean_returns)\n",
    "        vol = np.sqrt(np.dot(weights.T, np.dot(cov_matrix, weights)))\n",
    "        return -(ret - risk_free_rate) / vol  # Negative Sharpe for minimization\n",
    "\n",
    "    constraints = {'type': 'eq', 'fun': lambda weights: np.sum(weights) - 1}\n",
    "    bounds = tuple((0, 1) for _ in range(num_assets))\n",
    "    initial_weights = np.ones(num_assets) / num_assets\n",
    "\n",
    "    opt_result = solve_qp(cov_matrix, np.zeros(num_assets), None, None,\n",
    "                          np.vstack([mean_returns.to_numpy().reshape(1, -1), np.ones((1, num_assets))]),\n",
    "                          np.array([risk_free_rate, 1.0]), np.zeros(num_assets), np.ones(num_assets), solver='scs')\n",
    "\n",
    "    return opt_result  # Optimal weights\n",
    "\n",
    "# Compute optimal weights for max Sharpe Ratio portfolio\n",
    "optimal_weights = max_sharpe_ratio(annual_returns, annual_covar)\n",
    "\n",
    "# Convert to DataFrame and filter stocks with >1% weight\n",
    "sharpe_portfolio = pd.DataFrame({'Stock': annual_returns.index, 'Weight': optimal_weights})\n",
    "sharpe_portfolio = sharpe_portfolio[sharpe_portfolio['Weight'] > 0.01]  # Filter stocks >1%\n",
    "\n",
    "# ✅ Step 8: Display the Portfolio\n",
    "print(\"\\n📊 Max Sharpe Portfolio:\")\n",
    "display(sharpe_portfolio)\n",
    "\n",
    "# ✅ Step 9: Generate Efficient Frontier\n",
    "frontier = np.array([ef.get_portfolio(r)['risk_ret'] for r in np.linspace(min_return, max_return, 20)]).T\n",
    "\n",
    "# ✅ Step 10: Plot the Efficient Frontier\n",
    "plt.figure(figsize=(10, 6))\n",
    "plt.plot(frontier[0], frontier[1], 'o-', color='blue', label=\"Efficient Frontier\")  # Efficient frontier\n",
    "for n, r, s in zip(annual_returns.index, annual_returns, np.sqrt(np.diag(annual_covar))):\n",
    "    plt.scatter(s, r, color='red', s=50)\n",
    "    plt.text(s + 0.005, r, n, fontsize=9)\n",
    "\n",
    "plt.title('Efficient Frontier Using Annualized Statistics')\n",
    "plt.xlabel('Risk (Standard Deviation)')\n",
    "plt.ylabel('Return')\n",
    "plt.legend()\n",
    "plt.show()\n",
    "\n",
    "\n"
   ]
  },
  {
   "cell_type": "raw",
   "metadata": {
    "tags": []
   },
   "source": []
  },
  {
   "cell_type": "code",
   "execution_count": null,
   "metadata": {},
   "outputs": [],
   "source": []
  },
  {
   "cell_type": "markdown",
   "metadata": {},
   "source": [
    "# Computing the Efficient Frontier\n",
    "## If w is the weight vector of stocks with expected returns μ, then the portfolio return is equal to each stock’s weight multiplied by its return, i.e wTμ. The portfolio risk in terms of the covariance matrix Σ is given by wTΣw. Portfolio optimisation can then be regarded as a convex optimisation problem, and a solution can be found using quadratic programming. If we denote the target return as μ∗, the precise statement of the long-only portfolio optimisation problem is as follows:\n",
    "\n",
    "## min_w : $w^T\\Sigma w$\n",
    "\n",
    "## subject to \n",
    "\n",
    "## $$w^T \\mu = \\mu^*$$\n",
    "\n",
    "## $$w^T \\textbf{1} = 1$$\n",
    "\n",
    "## $$w_i \\geq 0$$"
   ]
  },
  {
   "cell_type": "markdown",
   "metadata": {},
   "source": [
    "# Calculate the efficient frontier\n",
    "## select a range of target return values ($r^*$)\n",
    "## call the optimizer to find the portfolio with the minimum volatility for each $r^*$ value"
   ]
  },
  {
   "cell_type": "markdown",
   "metadata": {},
   "source": [
    "# Quadratic optimizer\n",
    "## https://pypi.org/project/qpsolvers/\n",
    "\n",
    "minimize     $\\frac{1}{2} x^T P x + q^T x$\n",
    "\n",
    "subject to $$G x <= h $$\n",
    "$$A x = b$$\n",
    "$$lb <= x <= ub$$"
   ]
  },
  {
   "cell_type": "markdown",
   "metadata": {
    "jp-MarkdownHeadingCollapsed": true
   },
   "source": [
    "# Mapping variables in the quadratic optimizer\n",
    "\n",
    "$$P = \\Sigma$$\n",
    "\n",
    "\\begin{equation*}\n",
    "q = \\begin{bmatrix}\n",
    "0 \\\\\n",
    "0 \\\\\n",
    "0\n",
    "\\end{bmatrix}\n",
    "\\end{equation*}\n",
    "\n",
    "$$G, h = None, None$$\n",
    "\n",
    "\\begin{equation*}\n",
    "A =  \\begin{bmatrix}\n",
    "r_0 & r_1 & r_2 \\\\\n",
    "1 & 1 & 1\n",
    "\\end{bmatrix}\n",
    "\\begin{bmatrix}\n",
    "w_0 \\\\\n",
    "w_1 \\\\\n",
    "w_2  \n",
    "\\end{bmatrix}=\n",
    "\\begin{bmatrix}\n",
    "r^* \\\\\n",
    "1 \n",
    "\\end{bmatrix}=b\n",
    "\\end{equation*}\n",
    "\n",
    "\\begin{equation*}\n",
    "lb = \\begin{bmatrix}\n",
    "0 \\\\\n",
    "0 \\\\\n",
    "0\n",
    "\\end{bmatrix}<=\n",
    "\\begin{bmatrix}\n",
    "w_0 \\\\\n",
    "w_1 \\\\\n",
    "w_2  \n",
    "\\end{bmatrix}<=\n",
    "\\begin{bmatrix}\n",
    "1 \\\\\n",
    "1 \\\\\n",
    "1\n",
    "\\end{bmatrix}=ub\n",
    "\\end{equation*}"
   ]
  },
  {
   "cell_type": "code",
   "execution_count": 23,
   "metadata": {},
   "outputs": [
    {
     "ename": "ValueError",
     "evalue": "min() iterable argument is empty",
     "output_type": "error",
     "traceback": [
      "\u001b[0;31m---------------------------------------------------------------------------\u001b[0m",
      "\u001b[0;31mValueError\u001b[0m                                Traceback (most recent call last)",
      "Cell \u001b[0;32mIn[23], line 46\u001b[0m\n\u001b[1;32m     44\u001b[0m \u001b[38;5;66;03m# Create Efficient Frontier\u001b[39;00m\n\u001b[1;32m     45\u001b[0m ef \u001b[38;5;241m=\u001b[39m create_efficient_frontier(annual_returns, annual_covar)\n\u001b[0;32m---> 46\u001b[0m min_return, max_return \u001b[38;5;241m=\u001b[39m \u001b[38;5;28mmin\u001b[39m(annual_returns), \u001b[38;5;28mmax\u001b[39m(annual_returns)\n\u001b[1;32m     49\u001b[0m \u001b[38;5;66;03m# Find the Maximum Sharpe Ratio Portfolio\u001b[39;00m\n\u001b[1;32m     50\u001b[0m \u001b[38;5;28;01mdef\u001b[39;00m \u001b[38;5;21mmax_sharpe_ratio\u001b[39m(mean_returns, cov_matrix, risk_free_rate\u001b[38;5;241m=\u001b[39m\u001b[38;5;241m0.05\u001b[39m):\n",
      "\u001b[0;31mValueError\u001b[0m: min() iterable argument is empty"
     ]
    }
   ],
   "source": [
    "\n"
   ]
  },
  {
   "cell_type": "code",
   "execution_count": 24,
   "metadata": {
    "tags": []
   },
   "outputs": [
    {
     "name": "stdout",
     "output_type": "stream",
     "text": [
      "Series([], Name: mean, dtype: float64) Empty DataFrame\n",
      "Columns: [AAPL, CRM, GOOGL, HON, META]\n",
      "Index: []\n"
     ]
    }
   ],
   "source": [
    "print(annual_returns, annual_covar)"
   ]
  },
  {
   "cell_type": "markdown",
   "metadata": {},
   "source": [
    "# Portfolios on the efficient frontier"
   ]
  },
  {
   "cell_type": "code",
   "execution_count": 15,
   "metadata": {},
   "outputs": [
    {
     "data": {
      "text/html": [
       "<div>\n",
       "<style scoped>\n",
       "    .dataframe tbody tr th:only-of-type {\n",
       "        vertical-align: middle;\n",
       "    }\n",
       "\n",
       "    .dataframe tbody tr th {\n",
       "        vertical-align: top;\n",
       "    }\n",
       "\n",
       "    .dataframe thead th {\n",
       "        text-align: right;\n",
       "    }\n",
       "</style>\n",
       "<table border=\"1\" class=\"dataframe\">\n",
       "  <thead>\n",
       "    <tr style=\"text-align: right;\">\n",
       "      <th></th>\n",
       "      <th>AAPL</th>\n",
       "      <th>CRM</th>\n",
       "      <th>GOOGL</th>\n",
       "      <th>HON</th>\n",
       "      <th>META</th>\n",
       "    </tr>\n",
       "  </thead>\n",
       "  <tbody>\n",
       "    <tr>\n",
       "      <th>16</th>\n",
       "      <td>1.863134e-01</td>\n",
       "      <td>1.112194e-01</td>\n",
       "      <td>4.247614e-01</td>\n",
       "      <td>9.914822e-02</td>\n",
       "      <td>0.178558</td>\n",
       "    </tr>\n",
       "    <tr>\n",
       "      <th>17</th>\n",
       "      <td>2.016766e-01</td>\n",
       "      <td>1.207081e-01</td>\n",
       "      <td>4.474140e-01</td>\n",
       "      <td>4.278635e-02</td>\n",
       "      <td>0.187415</td>\n",
       "    </tr>\n",
       "    <tr>\n",
       "      <th>18</th>\n",
       "      <td>2.583253e-01</td>\n",
       "      <td>7.407088e-02</td>\n",
       "      <td>3.752043e-01</td>\n",
       "      <td>1.741066e-08</td>\n",
       "      <td>0.292399</td>\n",
       "    </tr>\n",
       "    <tr>\n",
       "      <th>19</th>\n",
       "      <td>1.038531e-09</td>\n",
       "      <td>-4.307051e-11</td>\n",
       "      <td>-3.376638e-11</td>\n",
       "      <td>-3.017417e-11</td>\n",
       "      <td>1.000000</td>\n",
       "    </tr>\n",
       "  </tbody>\n",
       "</table>\n",
       "</div>"
      ],
      "text/plain": [
       "            AAPL           CRM         GOOGL           HON      META\n",
       "16  1.863134e-01  1.112194e-01  4.247614e-01  9.914822e-02  0.178558\n",
       "17  2.016766e-01  1.207081e-01  4.474140e-01  4.278635e-02  0.187415\n",
       "18  2.583253e-01  7.407088e-02  3.752043e-01  1.741066e-08  0.292399\n",
       "19  1.038531e-09 -4.307051e-11 -3.376638e-11 -3.017417e-11  1.000000"
      ]
     },
     "metadata": {},
     "output_type": "display_data"
    },
    {
     "data": {
      "text/plain": [
       "array([[0.25819892, 0.20619815],\n",
       "       [0.26484273, 0.21413883],\n",
       "       [0.27542766, 0.22207951],\n",
       "       [0.39810928, 0.23002019]])"
      ]
     },
     "execution_count": 15,
     "metadata": {},
     "output_type": "execute_result"
    }
   ],
   "source": [
    "frontier_pf = pd.DataFrame(np.array([ef.get_portfolio(r)['portfolio'] \n",
    "                     for r in np.linspace(min_return, max_return, 20)]),\n",
    "                           columns=ef.tickers)\n",
    "display(frontier_pf[-4:])\n",
    "\n",
    "# Compute portfolio historical returns\n",
    "portfolio_returns = returns.dot(optimal_weights)\n",
    "\n",
    "# Compute 95% VaR\n",
    "VaR_95 = np.percentile(portfolio_returns, 5) * 1_000_000  # Assuming $1M investment\n",
    "\n",
    "print(f\"95% Historical VaR: ${-VaR_95:,.2f}\")\n",
    "\n",
    "\n",
    "frontier.T[-4:]"
   ]
  },
  {
   "cell_type": "code",
   "execution_count": 16,
   "metadata": {},
   "outputs": [
    {
     "data": {
      "image/png": "[encoded data removed]",
      "text/plain": [
       "<Figure size 1800x400 with 1 Axes>"
      ]
     },
     "metadata": {},
     "output_type": "display_data"
    }
   ],
   "source": [
    "# create stacked bar plot showing security allocations for portfolios on the efficient frontier \n",
    "\n",
    "plt.figure(figsize=(18,4))\n",
    "ind, width = range(len(frontier_pf)), .5  # number of portfolios, the width of each bar in the plot\n",
    "\n",
    "# loop through portfolios on the efficient frontier\n",
    "\n",
    "cumulative = [0.] * frontier_pf.shape[0]\n",
    "for t in frontier_pf.columns:\n",
    "    plt.bar(ind, frontier_pf[t], width, bottom=cumulative, label=t)\n",
    "    cumulative += frontier_pf[t]\n",
    "    \n",
    "plt.legend(loc='upper left')\n",
    "plt.title(\"asset allocation along the efficient frontier\", fontsize=25)\n",
    "plt.ylabel(\"percent allocation\", fontsize=20)\n",
    "plt.xlabel(\"portfolio number on efficient frontier\", fontsize=20)\n",
    "plt.show()"
   ]
  },
  {
   "cell_type": "markdown",
   "metadata": {},
   "source": [
    "# locate the min variance portfolio on the efficient frontier"
   ]
  },
  {
   "cell_type": "code",
   "execution_count": 17,
   "metadata": {},
   "outputs": [
    {
     "name": "stdout",
     "output_type": "stream",
     "text": [
      "minimum variance portfolio\n"
     ]
    },
    {
     "data": {
      "text/html": [
       "<div>\n",
       "<style scoped>\n",
       "    .dataframe tbody tr th:only-of-type {\n",
       "        vertical-align: middle;\n",
       "    }\n",
       "\n",
       "    .dataframe tbody tr th {\n",
       "        vertical-align: top;\n",
       "    }\n",
       "\n",
       "    .dataframe thead th {\n",
       "        text-align: right;\n",
       "    }\n",
       "</style>\n",
       "<table border=\"1\" class=\"dataframe\">\n",
       "  <thead>\n",
       "    <tr style=\"text-align: right;\">\n",
       "      <th></th>\n",
       "      <th>risk</th>\n",
       "      <th>return</th>\n",
       "    </tr>\n",
       "  </thead>\n",
       "  <tbody>\n",
       "    <tr>\n",
       "      <th>10</th>\n",
       "      <td>0.240353</td>\n",
       "      <td>0.158554</td>\n",
       "    </tr>\n",
       "  </tbody>\n",
       "</table>\n",
       "</div>"
      ],
      "text/plain": [
       "        risk    return\n",
       "10  0.240353  0.158554"
      ]
     },
     "metadata": {},
     "output_type": "display_data"
    },
    {
     "data": {
      "text/html": [
       "<div>\n",
       "<style scoped>\n",
       "    .dataframe tbody tr th:only-of-type {\n",
       "        vertical-align: middle;\n",
       "    }\n",
       "\n",
       "    .dataframe tbody tr th {\n",
       "        vertical-align: top;\n",
       "    }\n",
       "\n",
       "    .dataframe thead th {\n",
       "        text-align: right;\n",
       "    }\n",
       "</style>\n",
       "<table border=\"1\" class=\"dataframe\">\n",
       "  <thead>\n",
       "    <tr style=\"text-align: right;\">\n",
       "      <th></th>\n",
       "      <th>AAPL</th>\n",
       "      <th>CRM</th>\n",
       "      <th>GOOGL</th>\n",
       "      <th>HON</th>\n",
       "      <th>META</th>\n",
       "    </tr>\n",
       "  </thead>\n",
       "  <tbody>\n",
       "    <tr>\n",
       "      <th>10</th>\n",
       "      <td>0.094134</td>\n",
       "      <td>0.054287</td>\n",
       "      <td>0.288845</td>\n",
       "      <td>0.437319</td>\n",
       "      <td>0.125414</td>\n",
       "    </tr>\n",
       "  </tbody>\n",
       "</table>\n",
       "</div>"
      ],
      "text/plain": [
       "        AAPL       CRM     GOOGL       HON      META\n",
       "10  0.094134  0.054287  0.288845  0.437319  0.125414"
      ]
     },
     "metadata": {},
     "output_type": "display_data"
    }
   ],
   "source": []
  },
  {
   "cell_type": "code",
   "execution_count": 18,
   "metadata": {},
   "outputs": [
    {
     "data": {
      "image/png": "[encoded data removed]",
      "text/plain": [
       "<Figure size 640x480 with 1 Axes>"
      ]
     },
     "metadata": {},
     "output_type": "display_data"
    }
   ],
   "source": []
  },
  {
   "cell_type": "markdown",
   "metadata": {},
   "source": [
    "# Component beta\n",
    "## composition and risk-return for minimum variance portfolio"
   ]
  },
  {
   "cell_type": "code",
   "execution_count": 19,
   "metadata": {},
   "outputs": [
    {
     "data": {
      "text/html": [
       "<div>\n",
       "<style scoped>\n",
       "    .dataframe tbody tr th:only-of-type {\n",
       "        vertical-align: middle;\n",
       "    }\n",
       "\n",
       "    .dataframe tbody tr th {\n",
       "        vertical-align: top;\n",
       "    }\n",
       "\n",
       "    .dataframe thead th {\n",
       "        text-align: right;\n",
       "    }\n",
       "</style>\n",
       "<table border=\"1\" class=\"dataframe\">\n",
       "  <thead>\n",
       "    <tr style=\"text-align: right;\">\n",
       "      <th></th>\n",
       "      <th>AAPL</th>\n",
       "      <th>CRM</th>\n",
       "      <th>GOOGL</th>\n",
       "      <th>HON</th>\n",
       "      <th>META</th>\n",
       "    </tr>\n",
       "  </thead>\n",
       "  <tbody>\n",
       "    <tr>\n",
       "      <th>10</th>\n",
       "      <td>0.094134</td>\n",
       "      <td>0.054287</td>\n",
       "      <td>0.288845</td>\n",
       "      <td>0.437319</td>\n",
       "      <td>0.125414</td>\n",
       "    </tr>\n",
       "  </tbody>\n",
       "</table>\n",
       "</div>"
      ],
      "text/plain": [
       "        AAPL       CRM     GOOGL       HON      META\n",
       "10  0.094134  0.054287  0.288845  0.437319  0.125414"
      ]
     },
     "metadata": {},
     "output_type": "display_data"
    },
    {
     "data": {
      "text/html": [
       "<div>\n",
       "<style scoped>\n",
       "    .dataframe tbody tr th:only-of-type {\n",
       "        vertical-align: middle;\n",
       "    }\n",
       "\n",
       "    .dataframe tbody tr th {\n",
       "        vertical-align: top;\n",
       "    }\n",
       "\n",
       "    .dataframe thead th {\n",
       "        text-align: right;\n",
       "    }\n",
       "</style>\n",
       "<table border=\"1\" class=\"dataframe\">\n",
       "  <thead>\n",
       "    <tr style=\"text-align: right;\">\n",
       "      <th></th>\n",
       "      <th>risk</th>\n",
       "      <th>return</th>\n",
       "    </tr>\n",
       "  </thead>\n",
       "  <tbody>\n",
       "    <tr>\n",
       "      <th>10</th>\n",
       "      <td>0.240353</td>\n",
       "      <td>0.158554</td>\n",
       "    </tr>\n",
       "  </tbody>\n",
       "</table>\n",
       "</div>"
      ],
      "text/plain": [
       "        risk    return\n",
       "10  0.240353  0.158554"
      ]
     },
     "metadata": {},
     "output_type": "display_data"
    },
    {
     "data": {
      "text/plain": [
       "(nan, nan)"
      ]
     },
     "execution_count": 19,
     "metadata": {},
     "output_type": "execute_result"
    }
   ],
   "source": []
  },
  {
   "cell_type": "markdown",
   "metadata": {},
   "source": [
    "# compute beta for a stock\n",
    "## regress its returns on the portfolio (in this case min var) returns"
   ]
  },
  {
   "cell_type": "code",
   "execution_count": 20,
   "metadata": {},
   "outputs": [
    {
     "data": {
      "text/html": [
       "<div>\n",
       "<style scoped>\n",
       "    .dataframe tbody tr th:only-of-type {\n",
       "        vertical-align: middle;\n",
       "    }\n",
       "\n",
       "    .dataframe tbody tr th {\n",
       "        vertical-align: top;\n",
       "    }\n",
       "\n",
       "    .dataframe thead th {\n",
       "        text-align: right;\n",
       "    }\n",
       "</style>\n",
       "<table border=\"1\" class=\"dataframe\">\n",
       "  <thead>\n",
       "    <tr style=\"text-align: right;\">\n",
       "      <th></th>\n",
       "      <th>AAPL</th>\n",
       "      <th>CRM</th>\n",
       "      <th>GOOGL</th>\n",
       "      <th>HON</th>\n",
       "      <th>META</th>\n",
       "      <th>portfolio</th>\n",
       "    </tr>\n",
       "    <tr>\n",
       "      <th>Date</th>\n",
       "      <th></th>\n",
       "      <th></th>\n",
       "      <th></th>\n",
       "      <th></th>\n",
       "      <th></th>\n",
       "      <th></th>\n",
       "    </tr>\n",
       "  </thead>\n",
       "  <tbody>\n",
       "    <tr>\n",
       "      <th>2000-01-04</th>\n",
       "      <td>-0.088077</td>\n",
       "      <td>NaN</td>\n",
       "      <td>NaN</td>\n",
       "      <td>-0.017798</td>\n",
       "      <td>NaN</td>\n",
       "      <td>NaN</td>\n",
       "    </tr>\n",
       "    <tr>\n",
       "      <th>2000-01-05</th>\n",
       "      <td>0.014527</td>\n",
       "      <td>NaN</td>\n",
       "      <td>NaN</td>\n",
       "      <td>-0.013560</td>\n",
       "      <td>NaN</td>\n",
       "      <td>NaN</td>\n",
       "    </tr>\n",
       "    <tr>\n",
       "      <th>2000-01-06</th>\n",
       "      <td>-0.090514</td>\n",
       "      <td>NaN</td>\n",
       "      <td>NaN</td>\n",
       "      <td>0.019155</td>\n",
       "      <td>NaN</td>\n",
       "      <td>NaN</td>\n",
       "    </tr>\n",
       "    <tr>\n",
       "      <th>2000-01-07</th>\n",
       "      <td>0.046281</td>\n",
       "      <td>NaN</td>\n",
       "      <td>NaN</td>\n",
       "      <td>0.052185</td>\n",
       "      <td>NaN</td>\n",
       "      <td>NaN</td>\n",
       "    </tr>\n",
       "    <tr>\n",
       "      <th>2000-01-10</th>\n",
       "      <td>-0.017745</td>\n",
       "      <td>NaN</td>\n",
       "      <td>NaN</td>\n",
       "      <td>0.005283</td>\n",
       "      <td>NaN</td>\n",
       "      <td>NaN</td>\n",
       "    </tr>\n",
       "  </tbody>\n",
       "</table>\n",
       "</div>"
      ],
      "text/plain": [
       "                AAPL  CRM  GOOGL       HON  META  portfolio\n",
       "Date                                                       \n",
       "2000-01-04 -0.088077  NaN    NaN -0.017798   NaN        NaN\n",
       "2000-01-05  0.014527  NaN    NaN -0.013560   NaN        NaN\n",
       "2000-01-06 -0.090514  NaN    NaN  0.019155   NaN        NaN\n",
       "2000-01-07  0.046281  NaN    NaN  0.052185   NaN        NaN\n",
       "2000-01-10 -0.017745  NaN    NaN  0.005283   NaN        NaN"
      ]
     },
     "metadata": {},
     "output_type": "display_data"
    },
    {
     "name": "stdout",
     "output_type": "stream",
     "text": [
      "                            OLS Regression Results                            \n",
      "==============================================================================\n",
      "Dep. Variable:                    CRM   R-squared:                       0.395\n",
      "Model:                            OLS   Adj. R-squared:                  0.395\n",
      "Method:                 Least Squares   F-statistic:                     2085.\n",
      "Date:                Thu, 06 Feb 2025   Prob (F-statistic):               0.00\n",
      "Time:                        16:29:11   Log-Likelihood:                 8514.3\n",
      "No. Observations:                3196   AIC:                        -1.702e+04\n",
      "Df Residuals:                    3194   BIC:                        -1.701e+04\n",
      "Df Model:                           1                                         \n",
      "Covariance Type:            nonrobust                                         \n",
      "==============================================================================\n",
      "                 coef    std err          t      P>|t|      [0.025      0.975]\n",
      "------------------------------------------------------------------------------\n",
      "Intercept  -3.117e-05      0.000     -0.104      0.917      -0.001       0.001\n",
      "portfolio      1.0478      0.023     45.660      0.000       1.003       1.093\n",
      "==============================================================================\n",
      "Omnibus:                      773.992   Durbin-Watson:                   2.020\n",
      "Prob(Omnibus):                  0.000   Jarque-Bera (JB):            44236.709\n",
      "Skew:                           0.144   Prob(JB):                         0.00\n",
      "Kurtosis:                      21.224   Cond. No.                         76.9\n",
      "==============================================================================\n",
      "\n",
      "Notes:\n",
      "[1] Standard Errors assume that the covariance matrix of the errors is correctly specified.\n",
      "\n",
      "ANOVA results\n",
      "               df    sum_sq   mean_sq            F  PR(>F)\n",
      "portfolio     1.0  0.592812  0.592812  2084.842807     0.0\n",
      "Residual   3194.0  0.908195  0.000284          NaN     NaN\n"
     ]
    },
    {
     "data": {
      "text/plain": [
       "'CRM beta = 1.0478'"
      ]
     },
     "execution_count": 20,
     "metadata": {},
     "output_type": "execute_result"
    }
   ],
   "source": [
    "\n"
   ]
  },
  {
   "cell_type": "code",
   "execution_count": null,
   "metadata": {},
   "outputs": [],
   "source": []
  }
 ],
 "metadata": {
  "kernelspec": {
   "display_name": "Python 3 (ipykernel)",
   "language": "python",
   "name": "python3"
  },
  "language_info": {
   "codemirror_mode": {
    "name": "ipython",
    "version": 3
   },
   "file_extension": ".py",
   "mimetype": "text/x-python",
   "name": "python",
   "nbconvert_exporter": "python",
   "pygments_lexer": "ipython3",
   "version": "3.12.2"
  }
 },
 "nbformat": 4,
 "nbformat_minor": 4
}
